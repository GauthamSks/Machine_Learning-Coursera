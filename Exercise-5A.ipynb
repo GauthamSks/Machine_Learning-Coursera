{
 "cells": [
  {
   "cell_type": "markdown",
   "metadata": {},
   "source": [
    "## Regularized Linear Regression and Bias v.s.Variance"
   ]
  },
  {
   "cell_type": "markdown",
   "metadata": {},
   "source": [
    "In this exercise, you will implement regularized linear regression and use it to\n",
    "study models with different bias-variance properties.implement regularized linear regres-\n",
    "sion to predict the amount of water flowing out of a dam using the change\n",
    "of water level in a reservoir. In the next half, you will go through some diag-\n",
    "nostics of debugging learning algorithms and examine the effects of bias v.s.\n",
    "variance."
   ]
  },
  {
   "cell_type": "code",
   "execution_count": 139,
   "metadata": {},
   "outputs": [
    {
     "name": "stdout",
     "output_type": "stream",
     "text": [
      "dict_keys(['__header__', '__version__', '__globals__', 'X', 'y', 'Xtest', 'ytest', 'Xval', 'yval'])\n"
     ]
    }
   ],
   "source": [
    "import numpy as np\n",
    "import matplotlib.pyplot as plt\n",
    "import scipy.io  # To load the data stored in matlab format\n",
    "from scipy.optimize import minimize #To use the advanced optimization algorithm\n",
    "%matplotlib inline\n",
    "\n",
    "Data = scipy.io.loadmat('./Files/ex5data1.mat') #This a dictionary\n",
    "print(Data.keys())\n",
    "\n",
    "#Training set\n",
    "Xtrain = Data['X']\n",
    "#Inserting the bias unit\n",
    "Xtrain = np.insert(Xtrain,0,1,axis=1)\n",
    "Ytrain = Data['y']\n",
    "\n",
    "#Cross-Validation set\n",
    "Xcv = Data['Xval']\n",
    "Ycv = Data['yval']\n",
    "\n",
    "#Testing set\n",
    "Xtest = Data['Xtest']\n",
    "Ytest = Data['ytest']\n",
    "\n",
    "m_train = Ytrain.size #no of training samples\n",
    "m_cv = Ycv.size\n",
    "m_test = Ytest.size"
   ]
  },
  {
   "cell_type": "markdown",
   "metadata": {},
   "source": [
    "### Visualizing the data"
   ]
  },
  {
   "cell_type": "code",
   "execution_count": 156,
   "metadata": {
    "scrolled": false
   },
   "outputs": [
    {
     "data": {
      "image/png": "[encoded data removed]",
      "text/plain": [
       "<Figure size 432x288 with 1 Axes>"
      ]
     },
     "metadata": {
      "needs_background": "light"
     },
     "output_type": "display_data"
    }
   ],
   "source": [
    "def plotD():\n",
    "    plt.scatter(Xtrain[:,1],Ytrain,c='red',marker='x')\n",
    "    plt.xlabel('Change in water level(x)')\n",
    "    plt.ylabel('Water flowing out of the dam(Y)')\n",
    "    plt.xlim(-50,40)\n",
    "    plt.ylim(-5,40)\n",
    "#     plt.show()\n",
    "plotD()"
   ]
  },
  {
   "cell_type": "markdown",
   "metadata": {},
   "source": [
    "Hypothesis function used:  h<sub>&#952;</sub>(x) = &#952;<sub>0</sub> + &#952;<sub>1</sub>X"
   ]
  },
  {
   "cell_type": "code",
   "execution_count": 141,
   "metadata": {},
   "outputs": [],
   "source": [
    "def CostFn(theta,x,y,r): #here 'r' is the Regularization parameter\n",
    "    h = x.dot(theta)\n",
    "    J = (1/(2*m_train))*(np.sum(np.square(h-y)) + r*np.sum(np.square(theta[1:])))\n",
    "    return J"
   ]
  },
  {
   "cell_type": "code",
   "execution_count": 142,
   "metadata": {},
   "outputs": [],
   "source": [
    "def Gradient(theta,x,y,r):\n",
    "    h = x.dot(theta.reshape(-1,1))\n",
    "    \"\"\"Here the since we dont want to regularized the bias unit we \n",
    "       make the 1st row of theta to be zero which is done by the command\n",
    "       np.r_[[[0]],Theta_initial[1:].reshape(-1,1)]\n",
    "    \"\"\"\n",
    "    G = (1/m_train)*(x.T.dot(h-y))+ (r/m_train)*np.r_[[[0]],theta[1:].reshape(-1,1)]\n",
    "    return(G.flatten())"
   ]
  },
  {
   "cell_type": "code",
   "execution_count": 143,
   "metadata": {
    "scrolled": true
   },
   "outputs": [
    {
     "name": "stdout",
     "output_type": "stream",
     "text": [
      "Initial_Cost 303.9515255535976\n",
      "Initial_Gradient [-15.30301567 598.16741084]\n"
     ]
    }
   ],
   "source": [
    "Theta_initial = np.ones((Xtrain.shape[1],1))\n",
    "Initial_Cost = CostFn(Theta_initial,Xtrain,Ytrain,0)\n",
    "Initial_Gradient = Gradient(Theta_initial,Xtrain,Ytrain,0)\n",
    "print(\"Initial_Cost\",Initial_Cost)\n",
    "print(\"Initial_Gradient\",Initial_Gradient)"
   ]
  },
  {
   "cell_type": "code",
   "execution_count": 144,
   "metadata": {},
   "outputs": [],
   "source": [
    "def LinearRegression(x,y,r):\n",
    "    Theta1 = np.array([[15],[15]]) #Not optimizing when using initila value as a unit matrix credits Jordi Warmenhoven\n",
    "    outPut = minimize(CostFn,Theta1, args=(x,y,r), method=None, jac=Gradient,\n",
    "                   options={'maxiter':1000000})\n",
    "    return(outPut)"
   ]
  },
  {
   "cell_type": "code",
   "execution_count": 155,
   "metadata": {},
   "outputs": [],
   "source": [
    "result = LinearRegression(Xtrain,Ytrain,0)\n",
    "Optimized_Theta = result.x"
   ]
  },
  {
   "cell_type": "code",
   "execution_count": 163,
   "metadata": {
    "scrolled": false
   },
   "outputs": [
    {
     "data": {
      "text/plain": [
       "<matplotlib.legend.Legend at 0x7fdc341abe48>"
      ]
     },
     "execution_count": 163,
     "metadata": {},
     "output_type": "execute_result"
    },
    {
     "data": {
      "image/png": "[encoded data removed]",
      "text/plain": [
       "<Figure size 432x288 with 1 Axes>"
      ]
     },
     "metadata": {
      "needs_background": "light"
     },
     "output_type": "display_data"
    }
   ],
   "source": [
    "h = Xtrain.dot(Optimized_Theta)\n",
    "plotD()\n",
    "plt.plot(Xtrain[:,1],h,label='Regression Line')\n",
    "plt.legend(loc='upper left')"
   ]
  },
  {
   "cell_type": "code",
   "execution_count": null,
   "metadata": {},
   "outputs": [],
   "source": []
  }
 ],
 "metadata": {
  "kernelspec": {
   "display_name": "Python 3",
   "language": "python",
   "name": "python3"
  },
  "language_info": {
   "codemirror_mode": {
    "name": "ipython",
    "version": 3
   },
   "file_extension": ".py",
   "mimetype": "text/x-python",
   "name": "python",
   "nbconvert_exporter": "python",
   "pygments_lexer": "ipython3",
   "version": "3.7.3"
  }
 },
 "nbformat": 4,
 "nbformat_minor": 2
}
