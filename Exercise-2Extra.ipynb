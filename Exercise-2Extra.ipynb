{
 "cells": [
  {
   "cell_type": "markdown",
   "metadata": {},
   "source": [
    "## Logistic Regression-Using Gradient Descent"
   ]
  },
  {
   "cell_type": "markdown",
   "metadata": {},
   "source": [
    "In this you will build a logistic regression model to predict whether a student gets admitted into a university.\n",
    "\n",
    "Suppose that you are the administrator of a university department and\n",
    "you want to determine each applicant’s chance of admission based on their results on two exams. You have historical data from previous applicants that you can use as a training set for logistic regression. For each training example, you have the applicant’s scores on two exams and the admissions decision.\n",
    "\n",
    "Your task is to build a classification model that estimates an applicant’s probability of admission based the scores from those two exams.\n",
    "\n",
    "&#920;<sup>T</sup>X = &#952;<sub>0</sub> + &#952;<sub>1</sub>X<sub>1</sub> + &#952;<sub>2</sub>X<sub>2</sub>\n",
    " \n",
    " Hypothesis function used:  h<sub>&#952;</sub>(x) = 1/1+e<sup>-&#920;<sup>T</sup>X </sup>"
   ]
  },
  {
   "cell_type": "code",
   "execution_count": 1,
   "metadata": {},
   "outputs": [],
   "source": [
    "import numpy as np\n",
    "import matplotlib.pyplot as plt\n",
    "import scipy.special\n",
    "%matplotlib inline\n",
    "\n",
    "data = np.loadtxt('./Files/ex2data1.txt',delimiter=\",\")\n",
    "\n",
    "X = data[:,0:2] #Matrix to store the marks\n",
    "Y = (data[:,2]).reshape(100,1)   #Matrix to show the admission status\n",
    "\n",
    "m = Y.size       #No of training samples\n",
    "n = X.shape[1]   #No of Features"
   ]
  },
  {
   "cell_type": "markdown",
   "metadata": {},
   "source": [
    "#### Visualizing the data\n"
   ]
  },
  {
   "cell_type": "code",
   "execution_count": 2,
   "metadata": {
    "scrolled": true
   },
   "outputs": [
    {
     "data": {
      "image/png": "[encoded data removed]",
      "text/plain": [
       "<Figure size 648x360 with 1 Axes>"
      ]
     },
     "metadata": {
      "needs_background": "light"
     },
     "output_type": "display_data"
    }
   ],
   "source": [
    "#Divide the sample into two: ones with positive classification, one with null classification\n",
    "pos = np.array([X[i] for i in range(X.shape[0]) if Y[i] == 1])\n",
    "neg = np.array([X[i] for i in range(X.shape[0]) if Y[i] == 0])\n",
    "\n",
    "def PlotD():\n",
    "    plt.figure(figsize=(9,5))    \n",
    "    plt.plot(pos[:,0],pos[:,1],'k+',label='Admitted')\n",
    "    plt.plot(neg[:,0],neg[:,1],'yo',label='Not admitted')\n",
    "    plt.xlabel('Exam 1 score')\n",
    "    plt.ylabel('Exam 2 score')\n",
    "    plt.legend(loc='upper right')\n",
    "    plt.xlim((30,105))\n",
    "    plt.show()\n",
    "\n",
    "PlotD()"
   ]
  },
  {
   "cell_type": "code",
   "execution_count": 3,
   "metadata": {},
   "outputs": [],
   "source": [
    "#Feature Normalization by mean normalization\n",
    "\n",
    "mean = [] #To store the mean of each feature\n",
    "STD = []  #To store the STD of each feature\n",
    "\n",
    "for i in range(n):\n",
    "    \n",
    "    mean.append(np.sum(X[:,i],axis=0)/m)\n",
    "    STD.append(np.std(X[:,i],ddof=1))\n",
    "    \n",
    "    #subtracting the mean from each feature respectively\n",
    "    X[:,i] -= mean[i]\n",
    "    #Diving each feature with its STD respectively\n",
    "    X[:,i] /= STD[i]"
   ]
  },
  {
   "cell_type": "code",
   "execution_count": 4,
   "metadata": {},
   "outputs": [],
   "source": [
    "def SigmoidFn(Z):\n",
    "    G = scipy.special.expit(Z)\n",
    "    return G"
   ]
  },
  {
   "cell_type": "code",
   "execution_count": 5,
   "metadata": {},
   "outputs": [],
   "source": [
    "def CostFn(x,y,Theta):\n",
    "    h = SigmoidFn(np.dot(x,Theta))\n",
    "    J = (-1/m)*np.sum((y.T).dot(np.log(h))+(1-y).T.dot(np.log(1-h)))\n",
    "    return J    "
   ]
  },
  {
   "cell_type": "code",
   "execution_count": 6,
   "metadata": {},
   "outputs": [],
   "source": [
    "#Insert the usual column of 1's into the \"X\" matrix\n",
    "X = np.insert(X,0,1,axis=1) "
   ]
  },
  {
   "cell_type": "code",
   "execution_count": 7,
   "metadata": {},
   "outputs": [],
   "source": [
    "def Gradient_d(x,y,Theta,L):\n",
    "    \n",
    "    J_History = []\n",
    "    iterations = 40000\n",
    "    \n",
    "    #Applying gradient descent\n",
    "    for i in range(iterations):\n",
    "        h = SigmoidFn(np.dot(x,Theta))\n",
    "        J_History.append(CostFn(x,y,Theta))\n",
    "        Theta = Theta - L*(1/m)*((x.T).dot(h-y))\n",
    "    return(J_History,Theta)"
   ]
  },
  {
   "cell_type": "code",
   "execution_count": 8,
   "metadata": {},
   "outputs": [
    {
     "name": "stdout",
     "output_type": "stream",
     "text": [
      "Initial Cost: 0.6931471805599452 \n",
      "\n",
      "Predicted Theta Values:\n",
      " [[1.65714729]\n",
      " [3.88141855]\n",
      " [3.61668833]] \n",
      "\n"
     ]
    }
   ],
   "source": [
    "L = 0.01\n",
    "theta = np.zeros((3,1))\n",
    "cost = CostFn(X,Y,theta)\n",
    "\n",
    "J,theta = Gradient_d(X,Y,theta,L)\n",
    "print(\"Initial Cost:\",cost,\"\\n\")\n",
    "print(\"Predicted Theta Values:\\n\",theta,\"\\n\")"
   ]
  },
  {
   "cell_type": "code",
   "execution_count": 9,
   "metadata": {},
   "outputs": [
    {
     "data": {
      "image/png": "[encoded data removed]",
      "text/plain": [
       "<Figure size 432x288 with 1 Axes>"
      ]
     },
     "metadata": {
      "needs_background": "light"
     },
     "output_type": "display_data"
    }
   ],
   "source": [
    "#Visualizing the convergence of gradient descent\n",
    "plt.title(\"Convergence of gradient descent\")\n",
    "plt.xlabel(\"Number of Iterations\")\n",
    "plt.ylabel(\"Cost J\")\n",
    "plt.plot(J)\n",
    "plt.show()"
   ]
  },
  {
   "cell_type": "code",
   "execution_count": 10,
   "metadata": {},
   "outputs": [
    {
     "name": "stdout",
     "output_type": "stream",
     "text": [
      "Cost at function minima: 0.2036076625697362 \n",
      "\n"
     ]
    }
   ],
   "source": [
    "cost = CostFn(X,Y,theta)\n",
    "print(\"Cost at function minima:\",cost,\"\\n\")"
   ]
  },
  {
   "cell_type": "code",
   "execution_count": 11,
   "metadata": {
    "scrolled": true
   },
   "outputs": [
    {
     "name": "stdout",
     "output_type": "stream",
     "text": [
      "Admission Probability:  0.7674244011408166\n"
     ]
    }
   ],
   "source": [
    "# Student with Exam 1 score 45 and Exam 2 score 85\n",
    "Prob = scipy.special.expit(np.array([1, (45-mean[0])/STD[0],(85-mean[1])/STD[1]]).dot(theta))\n",
    "print(\"Admission Probability: \",Prob[0])"
   ]
  },
  {
   "cell_type": "code",
   "execution_count": 12,
   "metadata": {},
   "outputs": [],
   "source": [
    "def prediction(x,Theta,threshold=0.5):\n",
    "    p = SigmoidFn(X.dot(Theta)) >= threshold\n",
    "    return p.astype('int')"
   ]
  },
  {
   "cell_type": "code",
   "execution_count": 13,
   "metadata": {},
   "outputs": [
    {
     "name": "stdout",
     "output_type": "stream",
     "text": [
      "Accuracy of the training model is: 89.0 \b%\n"
     ]
    }
   ],
   "source": [
    "p = prediction(X,theta)\n",
    "print(\"Accuracy of the training model is:\",100*sum(p.ravel() == Y.ravel())/m,\"\\b%\")"
   ]
  }
 ],
 "metadata": {
  "kernelspec": {
   "display_name": "Python 3",
   "language": "python",
   "name": "python3"
  },
  "language_info": {
   "codemirror_mode": {
    "name": "ipython",
    "version": 3
   },
   "file_extension": ".py",
   "mimetype": "text/x-python",
   "name": "python",
   "nbconvert_exporter": "python",
   "pygments_lexer": "ipython3",
   "version": "3.7.3"
  }
 },
 "nbformat": 4,
 "nbformat_minor": 2
}
