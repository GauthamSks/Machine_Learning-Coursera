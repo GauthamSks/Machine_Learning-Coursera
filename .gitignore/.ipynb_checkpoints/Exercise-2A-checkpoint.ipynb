{
 "cells": [
  {
   "cell_type": "markdown",
   "metadata": {},
   "source": [
    "## Using Advanced Optimization Algorithm\n"
   ]
  },
  {
   "cell_type": "code",
   "execution_count": 11,
   "metadata": {},
   "outputs": [],
   "source": [
    "import numpy as np\n",
    "import matplotlib.pyplot as plt\n",
    "import scipy.special\n",
    "from scipy.optimize import minimize\n",
    "%matplotlib inline\n",
    "\n",
    "data = np.loadtxt('./Files/ex2data1.txt',delimiter=\",\")\n",
    "\n",
    "X = data[:,0:2] #Matrix to store the marks\n",
    "Y = (data[:,2]).reshape(100,1)   #Matrix to show the admission status\n",
    "\n",
    "m = Y.size       #No of training samples\n",
    "n = X.shape[1]   #No of Features"
   ]
  },
  {
   "cell_type": "markdown",
   "metadata": {},
   "source": [
    "#### Visualizing the data"
   ]
  },
  {
   "cell_type": "code",
   "execution_count": 12,
   "metadata": {},
   "outputs": [
    {
     "data": {
      "image/png": "[encoded data removed]",
      "text/plain": [
       "<Figure size 648x360 with 1 Axes>"
      ]
     },
     "metadata": {
      "needs_background": "light"
     },
     "output_type": "display_data"
    }
   ],
   "source": [
    "#Divide the sample into two: ones with positive classification, one with null classification\n",
    "pos = np.array([X[i] for i in range(X.shape[0]) if Y[i] == 1])\n",
    "neg = np.array([X[i] for i in range(X.shape[0]) if Y[i] == 0])\n",
    "\n",
    "def PlotD():\n",
    "    plt.figure(figsize=(9,5))    \n",
    "    plt.plot(pos[:,0],pos[:,1],'k+',label='Admitted')\n",
    "    plt.plot(neg[:,0],neg[:,1],'yo',label='Not admitted')\n",
    "    plt.xlabel('Exam 1 score')\n",
    "    plt.ylabel('Exam 2 score')\n",
    "    plt.legend(loc='upper right')\n",
    "    plt.xlim((30,105))\n",
    "\n",
    "PlotD()"
   ]
  },
  {
   "cell_type": "code",
   "execution_count": 13,
   "metadata": {},
   "outputs": [],
   "source": [
    "#Insert the usual column of 1's into the \"X\" matrix\n",
    "X = np.insert(X,0,1,axis=1) "
   ]
  },
  {
   "cell_type": "code",
   "execution_count": 14,
   "metadata": {},
   "outputs": [],
   "source": [
    "def SigmoidFn(Z):\n",
    "    G = scipy.special.expit(Z)\n",
    "    return G"
   ]
  },
  {
   "cell_type": "code",
   "execution_count": 15,
   "metadata": {},
   "outputs": [],
   "source": [
    "def CostFn(Theta,x,y):\n",
    "    h = SigmoidFn(np.dot(x,Theta))\n",
    "    J = (-1/m)*np.sum((y.reshape(100,1).T).dot(np.log(h))+(1-y.reshape(100,1)).T.dot(np.log(1-h)))\n",
    "    return J "
   ]
  },
  {
   "cell_type": "code",
   "execution_count": 16,
   "metadata": {},
   "outputs": [],
   "source": [
    "def grad(Theta,x,y):\n",
    "    h = SigmoidFn(np.dot(x,Theta.reshape(3,1)))\n",
    "    gradient = (1/m)*((x.T).dot(h-y.reshape(100,1)))\n",
    "    return(gradient.flatten())"
   ]
  },
  {
   "cell_type": "code",
   "execution_count": 17,
   "metadata": {},
   "outputs": [
    {
     "name": "stdout",
     "output_type": "stream",
     "text": [
      "Initial Cost: 0.6931471805599452\n",
      "Initial Gradient: [ -0.1        -12.00921659 -11.26284221]\n"
     ]
    }
   ],
   "source": [
    "theta = np.zeros((3,))\n",
    "cost = CostFn(theta,X,Y)\n",
    "gradient = grad(theta,X,Y)\n",
    "\n",
    "print(\"Initial Cost:\",cost)\n",
    "print(\"Initial Gradient:\",gradient)"
   ]
  },
  {
   "cell_type": "markdown",
   "metadata": {},
   "source": [
    "### Note\n",
    "scipy.optimize.minimize(fun, x0, args=(), method=None, jac=None,options=None)\n",
    "\n",
    "fun: The objective function to be minimized.\n",
    " \n",
    "    fun(x, *args) -> float\n",
    "\n",
    "where x is an 1-D array with shape (n,) and args is a tuple of the fixed parameters.\n",
    "\n",
    "x0: ndarray, shape (n,)\n",
    "\n",
    "args: tuple, optional, Extra arguments passed to the objective function and its derivatives (fun, jac and hess functions).\n",
    "\n",
    "method: str or callable, optional,Type of solver. eg‘Nelder-Mead’,‘BFGS’,‘Newton-CG’‘L-BFGS-B ,etc"
   ]
  },
  {
   "cell_type": "code",
   "execution_count": 18,
   "metadata": {
    "scrolled": true
   },
   "outputs": [
    {
     "name": "stderr",
     "output_type": "stream",
     "text": [
      "/home/apple/.local/lib/python3.6/site-packages/ipykernel_launcher.py:3: RuntimeWarning: divide by zero encountered in log\n",
      "  This is separate from the ipykernel package so we can avoid doing imports until\n"
     ]
    },
    {
     "data": {
      "text/plain": [
       "      fun: 0.20349770158944375\n",
       " hess_inv: array([[ 3.31474479e+03, -2.63892205e+01, -2.70237122e+01],\n",
       "       [-2.63892205e+01,  2.23869433e-01,  2.02682332e-01],\n",
       "       [-2.70237122e+01,  2.02682332e-01,  2.35335117e-01]])\n",
       "      jac: array([-9.52476813e-09, -9.31921313e-07, -2.82608924e-07])\n",
       "  message: 'Optimization terminated successfully.'\n",
       "     nfev: 31\n",
       "      nit: 23\n",
       "     njev: 31\n",
       "   status: 0\n",
       "  success: True\n",
       "        x: array([-25.16133284,   0.2062317 ,   0.2014716 ])"
      ]
     },
     "execution_count": 18,
     "metadata": {},
     "output_type": "execute_result"
    }
   ],
   "source": [
    "val = minimize(CostFn, theta, args=(X,Y.flatten()), method=None, jac=grad, options={'maxiter':400})\n",
    "val"
   ]
  },
  {
   "cell_type": "code",
   "execution_count": 19,
   "metadata": {},
   "outputs": [
    {
     "name": "stdout",
     "output_type": "stream",
     "text": [
      "Optimized Theta: [-25.16133284   0.2062317    0.2014716 ]\n"
     ]
    }
   ],
   "source": [
    "print(\"Optimized Theta:\",val.x)"
   ]
  },
  {
   "cell_type": "markdown",
   "metadata": {},
   "source": [
    "#### Visualizing the Dicision boundary\n",
    "Using .5 on the probability scale corresponds to using 0 on the log odds (linear) scale. If we only want to know the set of all points in the X1, X2 space that correspond to a predicted log odds of 0, we can set the fitted model equal to 0 and then algebraically rearrange the equation to make one variable a function of the other. Once you have that, you can plot the decision boundary on the X1, X2 (height,weight) plane."
   ]
  },
  {
   "cell_type": "code",
   "execution_count": 20,
   "metadata": {},
   "outputs": [
    {
     "data": {
      "image/png": "[encoded data removed]",
      "text/plain": [
       "<Figure size 648x360 with 1 Axes>"
      ]
     },
     "metadata": {
      "needs_background": "light"
     },
     "output_type": "display_data"
    }
   ],
   "source": [
    "h = (-1./val.x[2])*(val.x[0] + val.x[1]*X)\n",
    "PlotD()\n",
    "plt.plot(X,h,'b',label=\"Dicision Boundary\")\n",
    "plt.show()"
   ]
  }
 ],
 "metadata": {
  "kernelspec": {
   "display_name": "Python 3",
   "language": "python",
   "name": "python3"
  },
  "language_info": {
   "codemirror_mode": {
    "name": "ipython",
    "version": 3
   },
   "file_extension": ".py",
   "mimetype": "text/x-python",
   "name": "python",
   "nbconvert_exporter": "python",
   "pygments_lexer": "ipython3",
   "version": "3.7.3"
  }
 },
 "nbformat": 4,
 "nbformat_minor": 2
}
